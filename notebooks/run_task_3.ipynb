{
 "cells": [
  {
   "cell_type": "code",
   "execution_count": null,
   "metadata": {
    "colab": {
     "base_uri": "https://localhost:8080/"
    },
    "executionInfo": {
     "elapsed": 14234,
     "status": "ok",
     "timestamp": 1619838691290,
     "user": {
      "displayName": "Nicholas Beshouri",
      "photoUrl": "",
      "userId": "00794698476757432676"
     },
     "user_tz": 420
    },
    "id": "1jYCSYqSL-ae",
    "outputId": "4d2dcce5-0b36-47c0-bdca-4b24b5afb987"
   },
   "outputs": [],
   "source": [
    "!pip install torch==1.8.1\n",
    "!pip install spacy\n",
    "!pip install wandb\n",
    "!pip install transformers\n",
    "!python -m spacy download en_core_web_md"
   ]
  },
  {
   "cell_type": "code",
   "execution_count": null,
   "metadata": {
    "colab": {
     "base_uri": "https://localhost:8080/"
    },
    "executionInfo": {
     "elapsed": 46746,
     "status": "ok",
     "timestamp": 1619831570465,
     "user": {
      "displayName": "Nicholas Beshouri",
      "photoUrl": "",
      "userId": "00794698476757432676"
     },
     "user_tz": 420
    },
    "id": "7R6xCENo7bcy",
    "outputId": "f0cacc28-aa2b-408f-de54-d8d09c278d5e"
   },
   "outputs": [],
   "source": [
    "rm -r universal_transformer"
   ]
  },
  {
   "cell_type": "code",
   "execution_count": null,
   "metadata": {
    "colab": {
     "base_uri": "https://localhost:8080/"
    },
    "executionInfo": {
     "elapsed": 409,
     "status": "ok",
     "timestamp": 1619838694083,
     "user": {
      "displayName": "Nicholas Beshouri",
      "photoUrl": "",
      "userId": "00794698476757432676"
     },
     "user_tz": 420
    },
    "id": "IIRHACa25rkw",
    "outputId": "7bf34785-d95b-4bad-a906-1f67454b011f"
   },
   "outputs": [],
   "source": [
    "!git clone https://github.com/nbeshouri/universal_transformer.git"
   ]
  },
  {
   "cell_type": "code",
   "execution_count": null,
   "metadata": {
    "colab": {
     "base_uri": "https://localhost:8080/"
    },
    "executionInfo": {
     "elapsed": 1719,
     "status": "ok",
     "timestamp": 1619757954237,
     "user": {
      "displayName": "Nicholas Beshouri",
      "photoUrl": "",
      "userId": "00794698476757432676"
     },
     "user_tz": 420
    },
    "id": "bBGdoMha7J-L",
    "outputId": "b1b5adfe-cc54-4c2a-8514-1a595f2b6b39"
   },
   "outputs": [],
   "source": [
    "!git -C /content/universal_transformer pull"
   ]
  },
  {
   "cell_type": "code",
   "execution_count": null,
   "metadata": {
    "colab": {
     "base_uri": "https://localhost:8080/"
    },
    "executionInfo": {
     "elapsed": 1546,
     "status": "ok",
     "timestamp": 1619838732637,
     "user": {
      "displayName": "Nicholas Beshouri",
      "photoUrl": "",
      "userId": "00794698476757432676"
     },
     "user_tz": 420
    },
    "id": "SaPSyWxPmhPk",
    "outputId": "e971651c-9c85-4548-a111-ef59578de34a"
   },
   "outputs": [],
   "source": [
    "!wandb login"
   ]
  },
  {
   "cell_type": "code",
   "execution_count": null,
   "metadata": {
    "colab": {
     "base_uri": "https://localhost:8080/"
    },
    "executionInfo": {
     "elapsed": 391,
     "status": "ok",
     "timestamp": 1619831654412,
     "user": {
      "displayName": "Nicholas Beshouri",
      "photoUrl": "",
      "userId": "00794698476757432676"
     },
     "user_tz": 420
    },
    "id": "eAjrIKuQ6QZq",
    "outputId": "a2ab46fb-5c82-4637-eabb-6d45ea72e6b8"
   },
   "outputs": [],
   "source": [
    "cd /content/universal_transformer"
   ]
  },
  {
   "cell_type": "code",
   "execution_count": null,
   "metadata": {},
   "outputs": [],
   "source": [
    "!python train.py -c configs/vanilla_task_3.yaml --project final_project_vanilla_task_3"
   ]
  },
  {
   "cell_type": "code",
   "execution_count": null,
   "metadata": {
    "colab": {
     "base_uri": "https://localhost:8080/"
    },
    "executionInfo": {
     "elapsed": 21758,
     "status": "ok",
     "timestamp": 1619831677234,
     "user": {
      "displayName": "Nicholas Beshouri",
      "photoUrl": "",
      "userId": "00794698476757432676"
     },
     "user_tz": 420
    },
    "id": "rw-I85Th8mjV",
    "outputId": "44c67164-ac30-4ac6-81d4-099b15fc4c94"
   },
   "outputs": [],
   "source": [
    "!python train.py -c configs/universal_task_3.yaml --project final_project_universal_task_3"
   ]
  }
 ],
 "metadata": {
  "accelerator": "GPU",
  "colab": {
   "authorship_tag": "ABX9TyOHmuqiWZUFMWc7VC9/yNEN",
   "collapsed_sections": [],
   "name": "run_config.ipynb",
   "provenance": []
  },
  "kernelspec": {
   "display_name": "Python 3",
   "language": "python",
   "name": "python3"
  },
  "language_info": {
   "codemirror_mode": {
    "name": "ipython",
    "version": 3
   },
   "file_extension": ".py",
   "mimetype": "text/x-python",
   "name": "python",
   "nbconvert_exporter": "python",
   "pygments_lexer": "ipython3",
   "version": "3.8.5"
  }
 },
 "nbformat": 4,
 "nbformat_minor": 1
}
